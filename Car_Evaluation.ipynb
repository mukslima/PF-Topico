{
  "nbformat": 4,
  "nbformat_minor": 0,
  "metadata": {
    "colab": {
      "provenance": [],
      "include_colab_link": true
    },
    "kernelspec": {
      "name": "python3",
      "display_name": "Python 3"
    },
    "language_info": {
      "name": "python"
    }
  },
  "cells": [
    {
      "cell_type": "markdown",
      "metadata": {
        "id": "view-in-github",
        "colab_type": "text"
      },
      "source": [
        "<a href=\"https://colab.research.google.com/github/mukslima/PF-Topico/blob/main/Car_Evaluation.ipynb\" target=\"_parent\"><img src=\"https://colab.research.google.com/assets/colab-badge.svg\" alt=\"Open In Colab\"/></a>"
      ]
    },
    {
      "cell_type": "markdown",
      "source": [
        "# Pré processamento\n",
        "## Avaliação do carro (Car Evaluation)"
      ],
      "metadata": {
        "id": "2cK95ioxvvAa"
      }
    },
    {
      "cell_type": "code",
      "execution_count": null,
      "metadata": {
        "colab": {
          "base_uri": "https://localhost:8080/"
        },
        "id": "XjR7La_fGSG9",
        "outputId": "38151f6b-096b-48ac-9f2f-0e6bea2eb504"
      },
      "outputs": [
        {
          "output_type": "stream",
          "name": "stdout",
          "text": [
            "Collecting ucimlrepo\n",
            "  Downloading ucimlrepo-0.0.7-py3-none-any.whl.metadata (5.5 kB)\n",
            "Requirement already satisfied: pandas>=1.0.0 in /usr/local/lib/python3.11/dist-packages (from ucimlrepo) (2.2.2)\n",
            "Requirement already satisfied: certifi>=2020.12.5 in /usr/local/lib/python3.11/dist-packages (from ucimlrepo) (2025.1.31)\n",
            "Requirement already satisfied: numpy>=1.23.2 in /usr/local/lib/python3.11/dist-packages (from pandas>=1.0.0->ucimlrepo) (1.26.4)\n",
            "Requirement already satisfied: python-dateutil>=2.8.2 in /usr/local/lib/python3.11/dist-packages (from pandas>=1.0.0->ucimlrepo) (2.8.2)\n",
            "Requirement already satisfied: pytz>=2020.1 in /usr/local/lib/python3.11/dist-packages (from pandas>=1.0.0->ucimlrepo) (2025.1)\n",
            "Requirement already satisfied: tzdata>=2022.7 in /usr/local/lib/python3.11/dist-packages (from pandas>=1.0.0->ucimlrepo) (2025.1)\n",
            "Requirement already satisfied: six>=1.5 in /usr/local/lib/python3.11/dist-packages (from python-dateutil>=2.8.2->pandas>=1.0.0->ucimlrepo) (1.17.0)\n",
            "Downloading ucimlrepo-0.0.7-py3-none-any.whl (8.0 kB)\n",
            "Installing collected packages: ucimlrepo\n",
            "Successfully installed ucimlrepo-0.0.7\n",
            "Nomes das colunas (features): ['buying', 'maint', 'doors', 'persons', 'lug_boot', 'safety']\n",
            "Nomes das colunas (target): ['class']\n",
            "\n",
            "Car Evaluation (Pré-processado):\n",
            "   buying  maint  doors  persons  lug_boot  safety\n",
            "0     1.0    1.0    0.0      0.0       1.0     0.5\n",
            "1     1.0    1.0    0.0      0.0       1.0     1.0\n",
            "2     1.0    1.0    0.0      0.0       1.0     0.0\n",
            "3     1.0    1.0    0.0      0.0       0.5     0.5\n",
            "4     1.0    1.0    0.0      0.0       0.5     1.0 \n",
            "Labels: [0 1 2 3]\n",
            "\n",
            "Shape dos dados de treino (Car Evaluation): (1555, 6)\n",
            "Shape dos dados de teste (Car Evaluation): (173, 6)\n"
          ]
        }
      ],
      "source": [
        "# Import necessary libraries\n",
        "!pip install ucimlrepo\n",
        "from ucimlrepo import fetch_ucirepo\n",
        "import pandas as pd\n",
        "import numpy as np\n",
        "from sklearn.preprocessing import LabelEncoder, MinMaxScaler\n",
        "from sklearn.model_selection import train_test_split\n",
        "from sklearn.tree import DecisionTreeClassifier\n",
        "from sklearn.metrics import accuracy_score, classification_report\n",
        "from sklearn.neighbors import KNeighborsClassifier\n",
        "from sklearn.neural_network import MLPClassifier\n",
        "from sklearn.cluster import KMeans\n",
        "from sklearn.model_selection import KFold\n",
        "\n",
        "# Obter o conjunto de dados de Car Evaluation\n",
        "car_evaluation = fetch_ucirepo(id=19)\n",
        "X = car_evaluation.data.features\n",
        "y = car_evaluation.data.targets\n",
        "\n",
        "# Preprocess the data: Encode categorical features and target, and normalize features\n",
        "for column in X.select_dtypes(include=['object']).columns:\n",
        "    label_encoder = LabelEncoder()\n",
        "    X.loc[:, column] = label_encoder.fit_transform(X[column])\n",
        "\n",
        "label_encoder = LabelEncoder()\n",
        "y_encoded = label_encoder.fit_transform(y.iloc[:, 0])\n",
        "\n",
        "scaler = MinMaxScaler()\n",
        "X_normalized = pd.DataFrame(scaler.fit_transform(X), columns=X.columns)\n",
        "\n",
        "# Exibir informações sobre o dataset\n",
        "print(\"Nomes das colunas (features):\", X.columns.tolist())\n",
        "print(\"Nomes das colunas (target):\", y.columns.tolist())\n",
        "\n",
        "# Dividir os dados em treino e teste (90% treino, 10% teste)\n",
        "X_train, X_test, y_train, y_test = train_test_split(\n",
        "    X_normalized, y_encoded, test_size=0.1, random_state=42\n",
        ")\n",
        "\n",
        "# Exibir as primeiras linhas dos dados pré-processados\n",
        "print(\"\\nCar Evaluation (Pré-processado):\")\n",
        "print(X_normalized.head(), \"\\nLabels:\", np.unique(y_encoded))\n",
        "\n",
        "print(\"\\nShape dos dados de treino (Car Evaluation):\", X_train.shape)\n",
        "print(\"Shape dos dados de teste (Car Evaluation):\", X_test.shape)\n"
      ]
    },
    {
      "cell_type": "markdown",
      "source": [
        "--------------------------------------------------------------------------------\n",
        "\n",
        "# Algoritmos a serem utilizados:\n",
        "\n",
        "1.   Árvore de Decisão (gini e entropy)\n",
        "2.   kNN (k igual a 5 e 10)\n",
        "3.   MLP (escolher duas arquiteturas diferentes e variar o parâmetro activation =\n",
        "{‘relu’,’tanh’}). “relu” é o valor default para o parâmetro activation\n",
        "4. K-Means (K igual ao número de classes existente no problema)\n",
        "\n",
        "\n",
        "## 1.   Árvore de Decisão (gini e entropy)\n",
        "\n",
        "\n",
        "\n"
      ],
      "metadata": {
        "id": "GTOF7_CowdPD"
      }
    },
    {
      "cell_type": "code",
      "source": [
        "# Importar bibliotecas necessárias\n",
        "from sklearn.tree import DecisionTreeClassifier\n",
        "from sklearn.metrics import accuracy_score, classification_report\n",
        "\n",
        "# Função para treinar e avaliar a Árvore de Decisão\n",
        "def decision_tree_model(X_train, X_test, y_train, y_test, criterion='gini'):\n",
        "    model = DecisionTreeClassifier(criterion=criterion, random_state=42)\n",
        "    model.fit(X_train, y_train)\n",
        "    y_pred = model.predict(X_test)\n",
        "    print(f\"Árvore de Decisão (Critério: {criterion})\")\n",
        "    print(\"Acurácia:\", accuracy_score(y_test, y_pred))\n",
        "    print(\"Relatório de Classificação:\\n\", classification_report(y_test, y_pred, zero_division=0))\n",
        "    print(\"-\" * 60)\n",
        "    return y_pred\n",
        "\n",
        "# Aplicar para Car Evaluation\n",
        "print(\"Car Evaluation:\")\n",
        "y_pred_gini = decision_tree_model(X_train, X_test, y_train, y_test, criterion='gini')\n",
        "decision_tree_model(X_train, X_test, y_train, y_test, criterion='entropy')\n",
        "print(\"Relatório de Classificação:\\n\", classification_report(y_test, y_pred_gini, zero_division=0))"
      ],
      "metadata": {
        "colab": {
          "base_uri": "https://localhost:8080/"
        },
        "id": "8fccuUHJJn8P",
        "outputId": "2236fbc6-b2b3-4cc5-dfa7-f08d2d26d70a"
      },
      "execution_count": null,
      "outputs": [
        {
          "output_type": "stream",
          "name": "stdout",
          "text": [
            "Car Evaluation:\n",
            "Árvore de Decisão (Critério: gini)\n",
            "Acurácia: 0.953757225433526\n",
            "Relatório de Classificação:\n",
            "               precision    recall  f1-score   support\n",
            "\n",
            "           0       0.95      0.91      0.93        44\n",
            "           1       0.55      0.86      0.67         7\n",
            "           2       0.99      1.00      1.00       112\n",
            "           3       1.00      0.70      0.82        10\n",
            "\n",
            "    accuracy                           0.95       173\n",
            "   macro avg       0.87      0.87      0.85       173\n",
            "weighted avg       0.96      0.95      0.96       173\n",
            "\n",
            "------------------------------------------------------------\n",
            "Árvore de Decisão (Critério: entropy)\n",
            "Acurácia: 0.9595375722543352\n",
            "Relatório de Classificação:\n",
            "               precision    recall  f1-score   support\n",
            "\n",
            "           0       0.95      0.93      0.94        44\n",
            "           1       0.55      0.86      0.67         7\n",
            "           2       1.00      1.00      1.00       112\n",
            "           3       1.00      0.70      0.82        10\n",
            "\n",
            "    accuracy                           0.96       173\n",
            "   macro avg       0.87      0.87      0.86       173\n",
            "weighted avg       0.97      0.96      0.96       173\n",
            "\n",
            "------------------------------------------------------------\n",
            "Relatório de Classificação:\n",
            "               precision    recall  f1-score   support\n",
            "\n",
            "           0       0.95      0.91      0.93        44\n",
            "           1       0.55      0.86      0.67         7\n",
            "           2       0.99      1.00      1.00       112\n",
            "           3       1.00      0.70      0.82        10\n",
            "\n",
            "    accuracy                           0.95       173\n",
            "   macro avg       0.87      0.87      0.85       173\n",
            "weighted avg       0.96      0.95      0.96       173\n",
            "\n"
          ]
        }
      ]
    },
    {
      "cell_type": "markdown",
      "source": [
        "## 2. kNN (k igual a 5 e 10)"
      ],
      "metadata": {
        "id": "RejHmPvcw-GW"
      }
    },
    {
      "cell_type": "code",
      "source": [
        "from sklearn.neighbors import KNeighborsClassifier\n",
        "\n",
        "# Função para treinar e avaliar o kNN\n",
        "def knn_model(X_train, X_test, y_train, y_test, k=5):\n",
        "    model = KNeighborsClassifier(n_neighbors=k)\n",
        "    model.fit(X_train, y_train)\n",
        "    y_pred = model.predict(X_test)\n",
        "    print(f\"kNN (k={k})\")\n",
        "    print(\"Acurácia:\", accuracy_score(y_test, y_pred))\n",
        "    print(\"Relatório de Classificação:\\n\", classification_report(y_test, y_pred, zero_division=0))\n",
        "    print(\"-\" * 60)\n",
        "\n",
        "# Aplicar para Car Evaluation\n",
        "print(\"Car Evaluation:\")\n",
        "knn_model(X_train, X_test, y_train, y_test, k=5)\n",
        "knn_model(X_train, X_test, y_train, y_test, k=10)"
      ],
      "metadata": {
        "colab": {
          "base_uri": "https://localhost:8080/"
        },
        "id": "T0spAf_bJ3AG",
        "outputId": "bae84995-37f0-4df7-9b67-21891f4af596"
      },
      "execution_count": null,
      "outputs": [
        {
          "output_type": "stream",
          "name": "stdout",
          "text": [
            "Car Evaluation:\n",
            "kNN (k=5)\n",
            "Acurácia: 0.8497109826589595\n",
            "Relatório de Classificação:\n",
            "               precision    recall  f1-score   support\n",
            "\n",
            "           0       0.66      0.86      0.75        44\n",
            "           1       0.50      0.29      0.36         7\n",
            "           2       0.97      0.90      0.94       112\n",
            "           3       0.86      0.60      0.71        10\n",
            "\n",
            "    accuracy                           0.85       173\n",
            "   macro avg       0.75      0.66      0.69       173\n",
            "weighted avg       0.87      0.85      0.85       173\n",
            "\n",
            "------------------------------------------------------------\n",
            "kNN (k=10)\n",
            "Acurácia: 0.861271676300578\n",
            "Relatório de Classificação:\n",
            "               precision    recall  f1-score   support\n",
            "\n",
            "           0       0.68      0.86      0.76        44\n",
            "           1       0.00      0.00      0.00         7\n",
            "           2       0.96      0.94      0.95       112\n",
            "           3       0.86      0.60      0.71        10\n",
            "\n",
            "    accuracy                           0.86       173\n",
            "   macro avg       0.62      0.60      0.60       173\n",
            "weighted avg       0.85      0.86      0.85       173\n",
            "\n",
            "------------------------------------------------------------\n"
          ]
        }
      ]
    },
    {
      "cell_type": "markdown",
      "source": [
        "## 3. MLP (escolher duas arquiteturas diferentes e variar o parâmetro activation = {‘relu’,’tanh’}). “relu” é o valor default para o parâmetro activation"
      ],
      "metadata": {
        "id": "e6bfvz1pxEwT"
      }
    },
    {
      "cell_type": "code",
      "source": [
        "from sklearn.neural_network import MLPClassifier\n",
        "\n",
        "# Função para treinar e avaliar o MLP\n",
        "def mlp_model(X_train, X_test, y_train, y_test, hidden_layer_sizes=(100,), activation='relu'):\n",
        "    model = MLPClassifier(hidden_layer_sizes=hidden_layer_sizes, activation=activation, max_iter=10000, random_state=42)\n",
        "    model.fit(X_train, y_train)\n",
        "    y_pred = model.predict(X_test)\n",
        "    print(f\"MLP (Arquitetura: {hidden_layer_sizes}, Ativação: {activation})\")\n",
        "    print(\"Acurácia:\", accuracy_score(y_test, y_pred))\n",
        "    print(\"Relatório de Classificação:\\n\", classification_report(y_test, y_pred, zero_division=0))\n",
        "    print(\"-\" * 60)\n",
        "\n",
        "# Aplicar para Car Evaluation\n",
        "print(\"Car Evaluation:\")\n",
        "mlp_model(X_train, X_test, y_train, y_test, hidden_layer_sizes=(100,), activation='relu')\n",
        "mlp_model(X_train, X_test, y_train, y_test, hidden_layer_sizes=(50, 50), activation='relu')\n",
        "mlp_model(X_train, X_test, y_train, y_test, hidden_layer_sizes=(100,), activation='tanh')\n",
        "mlp_model(X_train, X_test, y_train, y_test, hidden_layer_sizes=(50, 50), activation='tanh')"
      ],
      "metadata": {
        "colab": {
          "base_uri": "https://localhost:8080/"
        },
        "id": "n0OHtuwHKCgk",
        "outputId": "6addf86e-6f4e-40c1-b6cf-da033db02139"
      },
      "execution_count": null,
      "outputs": [
        {
          "output_type": "stream",
          "name": "stdout",
          "text": [
            "Car Evaluation:\n",
            "MLP (Arquitetura: (100,), Ativação: relu)\n",
            "Acurácia: 0.9884393063583815\n",
            "Relatório de Classificação:\n",
            "               precision    recall  f1-score   support\n",
            "\n",
            "           0       0.98      1.00      0.99        44\n",
            "           1       0.88      1.00      0.93         7\n",
            "           2       1.00      1.00      1.00       112\n",
            "           3       1.00      0.80      0.89        10\n",
            "\n",
            "    accuracy                           0.99       173\n",
            "   macro avg       0.96      0.95      0.95       173\n",
            "weighted avg       0.99      0.99      0.99       173\n",
            "\n",
            "------------------------------------------------------------\n",
            "MLP (Arquitetura: (50, 50), Ativação: relu)\n",
            "Acurácia: 0.9653179190751445\n",
            "Relatório de Classificação:\n",
            "               precision    recall  f1-score   support\n",
            "\n",
            "           0       0.98      0.93      0.95        44\n",
            "           1       0.67      0.86      0.75         7\n",
            "           2       0.99      1.00      1.00       112\n",
            "           3       0.89      0.80      0.84        10\n",
            "\n",
            "    accuracy                           0.97       173\n",
            "   macro avg       0.88      0.90      0.89       173\n",
            "weighted avg       0.97      0.97      0.97       173\n",
            "\n",
            "------------------------------------------------------------\n",
            "MLP (Arquitetura: (100,), Ativação: tanh)\n",
            "Acurácia: 0.976878612716763\n",
            "Relatório de Classificação:\n",
            "               precision    recall  f1-score   support\n",
            "\n",
            "           0       0.98      0.98      0.98        44\n",
            "           1       0.70      1.00      0.82         7\n",
            "           2       1.00      1.00      1.00       112\n",
            "           3       1.00      0.70      0.82        10\n",
            "\n",
            "    accuracy                           0.98       173\n",
            "   macro avg       0.92      0.92      0.91       173\n",
            "weighted avg       0.98      0.98      0.98       173\n",
            "\n",
            "------------------------------------------------------------\n",
            "MLP (Arquitetura: (50, 50), Ativação: tanh)\n",
            "Acurácia: 1.0\n",
            "Relatório de Classificação:\n",
            "               precision    recall  f1-score   support\n",
            "\n",
            "           0       1.00      1.00      1.00        44\n",
            "           1       1.00      1.00      1.00         7\n",
            "           2       1.00      1.00      1.00       112\n",
            "           3       1.00      1.00      1.00        10\n",
            "\n",
            "    accuracy                           1.00       173\n",
            "   macro avg       1.00      1.00      1.00       173\n",
            "weighted avg       1.00      1.00      1.00       173\n",
            "\n",
            "------------------------------------------------------------\n"
          ]
        }
      ]
    },
    {
      "cell_type": "markdown",
      "source": [
        "## 4. K-Means (K igual ao número de classes existente no problema)"
      ],
      "metadata": {
        "id": "aOCXpxyMxOU3"
      }
    },
    {
      "cell_type": "code",
      "source": [
        "from sklearn.cluster import KMeans\n",
        "from sklearn.metrics import adjusted_rand_score\n",
        "\n",
        "# Função para avaliar o K-Means usando o Índice Rand Ajustado\n",
        "def kmeans_model(X_train, X_test, y_train, y_test, n_clusters):\n",
        "    model = KMeans(n_clusters=n_clusters, random_state=42)\n",
        "    model.fit(X_train)\n",
        "\n",
        "    # Fazer previsões nos dados de teste\n",
        "    y_pred = model.predict(X_test)\n",
        "\n",
        "    # Calcular o Índice Rand Ajustado\n",
        "    ari = adjusted_rand_score(y_test, y_pred)\n",
        "    print(f\"K-Means (K={n_clusters}) - Índice Rand Ajustado: {ari:.4f}\")\n",
        "    print(\"-\" * 60)\n",
        "\n",
        "# Aplicar para Car Evaluation\n",
        "print(\"Car Evaluation:\")\n",
        "n_classes = len(np.unique(y_encoded))\n",
        "kmeans_model(X_train, X_test, y_train, y_test, n_clusters=n_classes)"
      ],
      "metadata": {
        "colab": {
          "base_uri": "https://localhost:8080/"
        },
        "id": "XewXzxliKUIH",
        "outputId": "704860db-fa9a-4678-93ee-123a919a518b"
      },
      "execution_count": null,
      "outputs": [
        {
          "output_type": "stream",
          "name": "stdout",
          "text": [
            "Car Evaluation:\n",
            "K-Means (K=4) - Índice Rand Ajustado: 0.0596\n",
            "------------------------------------------------------------\n"
          ]
        }
      ]
    },
    {
      "cell_type": "markdown",
      "source": [
        "--------------------------------------------------------------------------------\n",
        "\n",
        "# Protocolo Experimental"
      ],
      "metadata": {
        "id": "Y8QWLiwOx9mR"
      }
    },
    {
      "cell_type": "code",
      "source": [
        "from sklearn.model_selection import KFold\n",
        "from sklearn.tree import DecisionTreeClassifier\n",
        "from sklearn.metrics import accuracy_score\n",
        "\n",
        "# Função para executar k-fold cross-validation\n",
        "def run_kfold_cv(model, X, y, k=10):\n",
        "    kf = KFold(n_splits=k, shuffle=True, random_state=42)\n",
        "    accuracies = []\n",
        "\n",
        "    for train_index, test_index in kf.split(X):\n",
        "        X_train, X_test = X.iloc[train_index], X.iloc[test_index]\n",
        "        y_train, y_test = y[train_index], y[test_index]\n",
        "\n",
        "        # Treinar o modelo\n",
        "        model.fit(X_train, y_train)\n",
        "\n",
        "        # Fazer previsões\n",
        "        y_pred = model.predict(X_test)\n",
        "\n",
        "        # Calcular acurácia\n",
        "        acc = accuracy_score(y_test, y_pred)\n",
        "        accuracies.append(acc)\n",
        "\n",
        "    # Retornar acurácia média e desvio padrão\n",
        "    return np.mean(accuracies), np.std(accuracies)"
      ],
      "metadata": {
        "id": "XQyhavH6KYhP"
      },
      "execution_count": null,
      "outputs": []
    },
    {
      "cell_type": "code",
      "source": [
        "from sklearn.tree import DecisionTreeClassifier\n",
        "\n",
        "# Árvore de Decisão (Gini)\n",
        "dt_gini = DecisionTreeClassifier(criterion='gini', random_state=42)\n",
        "mean_acc, std_acc = run_kfold_cv(dt_gini, X_normalized, y_encoded)\n",
        "print(f\"\\nÁrvore de Decisão (Gini) - Acurácia Média: {mean_acc:.4f}, Desvio Padrão: {std_acc:.4f}\")\n",
        "\n",
        "# Árvore de Decisão (Entropy)\n",
        "dt_entropy = DecisionTreeClassifier(criterion='entropy', random_state=42)\n",
        "mean_acc, std_acc = run_kfold_cv(dt_entropy, X_normalized, y_encoded)\n",
        "print(f\"Árvore de Decisão (Entropy) - Acurácia Média: {mean_acc:.4f}, Desvio Padrão: {std_acc:.4f}\")"
      ],
      "metadata": {
        "colab": {
          "base_uri": "https://localhost:8080/"
        },
        "id": "1g1hmn2xKe3v",
        "outputId": "2f3f77f3-8c06-4ef8-ee97-63c048da3df9"
      },
      "execution_count": null,
      "outputs": [
        {
          "output_type": "stream",
          "name": "stdout",
          "text": [
            "\n",
            "Árvore de Decisão (Gini) - Acurácia Média: 0.9803, Desvio Padrão: 0.0104\n",
            "Árvore de Decisão (Entropy) - Acurácia Média: 0.9832, Desvio Padrão: 0.0087\n"
          ]
        }
      ]
    },
    {
      "cell_type": "code",
      "source": [
        "from sklearn.neighbors import KNeighborsClassifier\n",
        "\n",
        "\n",
        "# === Aplicar o protocolo experimental para Car Evaluation ===\n",
        "# kNN (k=5)\n",
        "knn_5 = KNeighborsClassifier(n_neighbors=5)\n",
        "mean_acc, std_acc = run_kfold_cv(dt_gini, X_normalized, y_encoded)\n",
        "print(f\"\\nkNN (k=5) - Acurácia Média: {mean_acc:.4f}, Desvio Padrão: {std_acc:.4f}\")\n",
        "\n",
        "# kNN (k=10)\n",
        "knn_10 = KNeighborsClassifier(n_neighbors=10)\n",
        "mean_acc, std_acc = run_kfold_cv(dt_gini, X_normalized, y_encoded)\n",
        "print(f\"kNN (k=10) - Acurácia Média: {mean_acc:.4f}, Desvio Padrão: {std_acc:.4f}\")"
      ],
      "metadata": {
        "colab": {
          "base_uri": "https://localhost:8080/"
        },
        "id": "4ujQkUEULRs5",
        "outputId": "4ce103d4-cbc6-47ee-f3cd-bb25f18efdee"
      },
      "execution_count": null,
      "outputs": [
        {
          "output_type": "stream",
          "name": "stdout",
          "text": [
            "\n",
            "kNN (k=5) - Acurácia Média: 0.9803, Desvio Padrão: 0.0104\n",
            "kNN (k=10) - Acurácia Média: 0.9803, Desvio Padrão: 0.0104\n"
          ]
        }
      ]
    },
    {
      "cell_type": "code",
      "source": [
        "from sklearn.neural_network import MLPClassifier\n",
        "\n",
        "# MLP (Arquitetura: 100 neurônios, ativação: relu)\n",
        "mlp_relu_1 = MLPClassifier(hidden_layer_sizes=(100,), activation='relu', max_iter=10000, random_state=42)\n",
        "mean_acc, std_acc = run_kfold_cv(dt_gini, X_normalized, y_encoded)\n",
        "print(f\"\\nMLP (100, relu) - Acurácia Média: {mean_acc:.4f}, Desvio Padrão: {std_acc:.4f}\")\n",
        "\n",
        "# MLP (Arquitetura: 50, 50 neurônios, ativação: relu)\n",
        "mlp_relu_2 = MLPClassifier(hidden_layer_sizes=(50, 50), activation='relu', max_iter=10000, random_state=42)\n",
        "mean_acc, std_acc = run_kfold_cv(dt_gini, X_normalized, y_encoded)\n",
        "print(f\"MLP (50, 50, relu) - Acurácia Média: {mean_acc:.4f}, Desvio Padrão: {std_acc:.4f}\")\n",
        "\n",
        "# MLP (Arquitetura: 100 neurônios, ativação: tanh)\n",
        "mlp_tanh_1 = MLPClassifier(hidden_layer_sizes=(100,), activation='tanh', max_iter=10000, random_state=42)\n",
        "mean_acc, std_acc = run_kfold_cv(dt_gini, X_normalized, y_encoded)\n",
        "print(f\"MLP (100, tanh) - Acurácia Média: {mean_acc:.4f}, Desvio Padrão: {std_acc:.4f}\")\n",
        "\n",
        "# MLP (Arquitetura: 50, 50 neurônios, ativação: tanh)\n",
        "mlp_tanh_2 = MLPClassifier(hidden_layer_sizes=(50, 50), activation='tanh', max_iter=10000, random_state=42)\n",
        "mean_acc, std_acc = run_kfold_cv(dt_gini, X_normalized, y_encoded)\n",
        "print(f\"MLP (50, 50, tanh) - Acurácia Média: {mean_acc:.4f}, Desvio Padrão: {std_acc:.4f}\")"
      ],
      "metadata": {
        "colab": {
          "base_uri": "https://localhost:8080/"
        },
        "id": "XUuuRwrJLb68",
        "outputId": "98728789-0a36-478c-ddb2-2e66fe3be442"
      },
      "execution_count": null,
      "outputs": [
        {
          "output_type": "stream",
          "name": "stdout",
          "text": [
            "\n",
            "MLP (100, relu) - Acurácia Média: 0.9803, Desvio Padrão: 0.0104\n",
            "MLP (50, 50, relu) - Acurácia Média: 0.9803, Desvio Padrão: 0.0104\n",
            "MLP (100, tanh) - Acurácia Média: 0.9803, Desvio Padrão: 0.0104\n",
            "MLP (50, 50, tanh) - Acurácia Média: 0.9803, Desvio Padrão: 0.0104\n"
          ]
        }
      ]
    },
    {
      "cell_type": "code",
      "source": [
        "from sklearn.cluster import KMeans\n",
        "from sklearn.metrics import accuracy_score\n",
        "\n",
        "# Função para executar k-fold cross-validation com K-Means\n",
        "def run_kfold_cv_kmeans(X, y, n_clusters, k=10):\n",
        "    kf = KFold(n_splits=k, shuffle=True, random_state=42)\n",
        "    accuracies = []\n",
        "\n",
        "    for train_index, test_index in kf.split(X):\n",
        "        # Dividir os dados\n",
        "        X_train, X_test = X.iloc[train_index], X.iloc[test_index]\n",
        "        y_train, y_test = y[train_index], y[test_index]\n",
        "\n",
        "        # Treinar o K-Means\n",
        "        kmeans = KMeans(n_clusters=n_clusters, random_state=42)\n",
        "        kmeans.fit(X_train)\n",
        "\n",
        "        # Fazer previsões\n",
        "        y_pred = kmeans.predict(X_test)\n",
        "\n",
        "        # Calcular acurácia\n",
        "        adjusted_rand_score(y_test, y_pred)\n",
        "        acc = accuracy_score(y_test, y_pred)\n",
        "        accuracies.append(acc)\n",
        "\n",
        "    # Retornar acurácia média e desvio padrão\n",
        "    return np.mean(accuracies), np.std(accuracies)\n",
        "\n",
        "# === Aplicar o protocolo experimental para Car Evaluation ===\n",
        "# K-Means (K = número de classes)\n",
        "n_clusters = len(np.unique(y_encoded))\n",
        "mean_acc, std_acc = run_kfold_cv_kmeans(X_normalized, y_encoded, n_clusters)\n",
        "print(f\"\\nK-Means (Car Evaluation) - Acurácia Média: {mean_acc:.4f}, Desvio Padrão: {std_acc:.4f}\")"
      ],
      "metadata": {
        "colab": {
          "base_uri": "https://localhost:8080/"
        },
        "id": "3gzqrgSNLnHX",
        "outputId": "1d9fe9d0-4c3c-4969-ba99-455bda34b4e2"
      },
      "execution_count": null,
      "outputs": [
        {
          "output_type": "stream",
          "name": "stdout",
          "text": [
            "\n",
            "K-Means (Car Evaluation) - Acurácia Média: 0.2495, Desvio Padrão: 0.0904\n"
          ]
        }
      ]
    },
    {
      "cell_type": "markdown",
      "source": [
        "--------------------------------------------------------------------------------\n",
        "\n",
        "# *Relatório*"
      ],
      "metadata": {
        "id": "xUNN79I3yX1R"
      }
    },
    {
      "cell_type": "code",
      "source": [
        "import matplotlib.pyplot as plt\n",
        "from sklearn.neural_network import MLPClassifier\n",
        "from sklearn.metrics import log_loss\n",
        "\n",
        "# Função para treinar MLP e plotar a taxa de erro\n",
        "def train_mlp_with_error_plot(X_train, y_train, hidden_layer_sizes=(100,), activation='relu', max_epochs=1000):\n",
        "    model = MLPClassifier(hidden_layer_sizes=hidden_layer_sizes, activation=activation, max_iter=1, warm_start=True, random_state=42)\n",
        "    errors = []\n",
        "\n",
        "    for epoch in range(max_epochs):\n",
        "        model.partial_fit(X_train, y_train, classes=np.unique(y_train))\n",
        "        y_pred = model.predict_proba(X_train)\n",
        "        error = log_loss(y_train, y_pred)\n",
        "        errors.append(error)\n",
        "\n",
        "    # Plotar a taxa de erro\n",
        "    plt.plot(range(max_epochs), errors, label=f\"MLP ({hidden_layer_sizes}, {activation})\")\n",
        "    plt.xlabel(\"Época\")\n",
        "    plt.ylabel(\"Taxa de Erro (Log Loss)\")\n",
        "    plt.title(\"Taxa de Erro de Treinamento por Época\")\n",
        "    plt.legend()\n",
        "    plt.show()\n",
        "\n",
        "# Aplicar para Car Evaluation\n",
        "print(\"Car Evaluation:\")\n",
        "train_mlp_with_error_plot(X_train, y_train, hidden_layer_sizes=(100,), activation='relu')\n",
        "train_mlp_with_error_plot(X_train, y_train, hidden_layer_sizes=(50, 50), activation='relu')\n",
        "train_mlp_with_error_plot(X_train, y_train, hidden_layer_sizes=(100,), activation='tanh')\n",
        "train_mlp_with_error_plot(X_train, y_train, hidden_layer_sizes=(50, 50), activation='tanh')"
      ],
      "metadata": {
        "colab": {
          "base_uri": "https://localhost:8080/",
          "height": 952
        },
        "id": "_aqGOppaK2mi",
        "outputId": "a5fcef52-dd64-4e57-d1d5-93dac3d73155"
      },
      "execution_count": null,
      "outputs": [
        {
          "output_type": "stream",
          "name": "stdout",
          "text": [
            "Car Evaluation:\n"
          ]
        },
        {
          "output_type": "display_data",
          "data": {
            "text/plain": [
              "<Figure size 640x480 with 1 Axes>"
            ],
            "image/png": "[encoded data removed]"
          },
          "metadata": {}
        },
        {
          "output_type": "display_data",
          "data": {
            "text/plain": [
              "<Figure size 640x480 with 1 Axes>"
            ],
            "image/png": "[encoded data removed]"
          },
          "metadata": {}
        }
      ]
    },
    {
      "cell_type": "code",
      "source": [
        "import pandas as pd\n",
        "from sklearn.model_selection import KFold\n",
        "from sklearn.metrics import accuracy_score\n",
        "import numpy as np\n",
        "\n",
        "# Função para calcular a taxa de erro/acerto\n",
        "def calculate_error_rates(models, X, y, k=10):\n",
        "    results = []\n",
        "\n",
        "    def run_kfold_cv(model, X, y, k=10):\n",
        "        kf = KFold(n_splits=k, shuffle=True, random_state=42)\n",
        "        scores = []\n",
        "        for train_index, test_index in kf.split(X):\n",
        "            X_train_fold, X_test_fold = X.iloc[train_index], X.iloc[test_index]\n",
        "            y_train_fold, y_test_fold = y[train_index], y[test_index]\n",
        "            model.fit(X_train_fold, y_train_fold)\n",
        "            y_pred_fold = model.predict(X_test_fold)\n",
        "            scores.append(accuracy_score(y_test_fold, y_pred_fold))\n",
        "        return np.mean(scores), np.std(scores)\n",
        "\n",
        "    for model_name, model in models.items():\n",
        "        mean_acc, std_acc = run_kfold_cv(model, X, y, k=k)\n",
        "        error_rate = 1 - mean_acc\n",
        "        results.append({\n",
        "            \"Algoritmo\": model_name,\n",
        "            \"Taxa de Acerto (%)\": mean_acc * 100,\n",
        "            \"Taxa de Erro (%)\": error_rate * 100,\n",
        "            \"Desvio Padrão (%)\": std_acc * 100\n",
        "        })\n",
        "\n",
        "    return pd.DataFrame(results)\n",
        "\n",
        "# Definir os modelos\n",
        "models = {\n",
        "    \"Árvore de Decisão (Gini)\": DecisionTreeClassifier(criterion='gini', random_state=42),\n",
        "    \"Árvore de Decisão (Entropy)\": DecisionTreeClassifier(criterion='entropy', random_state=42),\n",
        "    \"kNN (k=5)\": KNeighborsClassifier(n_neighbors=5),\n",
        "    \"kNN (k=10)\": KNeighborsClassifier(n_neighbors=10),\n",
        "    \"MLP (100, relu)\": MLPClassifier(hidden_layer_sizes=(100,), activation='relu', max_iter=10000, random_state=42),\n",
        "    \"MLP (50, 50, relu)\": MLPClassifier(hidden_layer_sizes=(50, 50), activation='relu', max_iter=10000, random_state=42),\n",
        "    \"MLP (100, tanh)\": MLPClassifier(hidden_layer_sizes=(100,), activation='tanh', max_iter=10000, random_state=42),\n",
        "    \"MLP (50, 50, tanh)\": MLPClassifier(hidden_layer_sizes=(50, 50), activation='tanh', max_iter=10000, random_state=42),\n",
        "    \"K-Means\": KMeans(n_clusters=len(np.unique(y_encoded)), random_state=42)\n",
        "}\n",
        "\n",
        "# Calcular taxas de erro/acerto para Car Evaluation\n",
        "print(\"Car Evaluation:\")\n",
        "results_car_evaluation = calculate_error_rates(models, X_normalized, y_encoded)\n",
        "print(results_car_evaluation)"
      ],
      "metadata": {
        "id": "ADfKaLyrLN-F",
        "colab": {
          "base_uri": "https://localhost:8080/"
        },
        "outputId": "df106b2a-4a27-4b95-8bf4-3f69671df7ff"
      },
      "execution_count": 39,
      "outputs": [
        {
          "output_type": "stream",
          "name": "stdout",
          "text": [
            "Car Evaluation:\n",
            "                     Algoritmo  Taxa de Acerto (%)  Taxa de Erro (%)  \\\n",
            "0     Árvore de Decisão (Gini)           98.031994          1.968006   \n",
            "1  Árvore de Decisão (Entropy)           98.321683          1.678317   \n",
            "2                    kNN (k=5)           88.248420         11.751580   \n",
            "3                   kNN (k=10)           87.382377         12.617623   \n",
            "4              MLP (100, relu)           99.015997          0.984003   \n",
            "5           MLP (50, 50, relu)           98.437626          1.562374   \n",
            "6              MLP (100, tanh)           98.436954          1.563046   \n",
            "7           MLP (50, 50, tanh)           99.362482          0.637518   \n",
            "8                      K-Means           24.951270         75.048730   \n",
            "\n",
            "   Desvio Padrão (%)  \n",
            "0           1.041372  \n",
            "1           0.874868  \n",
            "2           3.408329  \n",
            "3           2.862157  \n",
            "4           0.452845  \n",
            "5           1.002762  \n",
            "6           0.735073  \n",
            "7           0.547993  \n",
            "8           9.042069  \n"
          ]
        }
      ]
    }
  ]
}